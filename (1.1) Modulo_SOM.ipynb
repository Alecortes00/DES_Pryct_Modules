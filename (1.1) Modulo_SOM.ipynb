{
 "cells": [
  {
   "cell_type": "code",
   "execution_count": 1,
   "id": "192f6788-0dd3-4cf9-b84b-95cddc556cd5",
   "metadata": {},
   "outputs": [],
   "source": [
    "import numpy as np\n",
    "import matplotlib.pyplot as plt\n",
    "import pandas as pd\n",
    "import treecorr\n",
    "import healpy as hp\n",
    "import os\n",
    "import time\n",
    "from sklearn.preprocessing import MinMaxScaler\n",
    "\n",
    "start_time = time.time()\n",
    "\n",
    "import sys\n",
    "sys.path.append('src')"
   ]
  },
  {
   "cell_type": "code",
   "execution_count": 2,
   "id": "3e41cbd7-f786-4bab-b89e-979ae9e9517a",
   "metadata": {},
   "outputs": [],
   "source": [
    "GETBACK=sys.path"
   ]
  },
  {
   "cell_type": "code",
   "execution_count": 3,
   "id": "8f64c9db-bf0d-4626-9678-3cb5888aa348",
   "metadata": {},
   "outputs": [],
   "source": [
    "current_path = os.getcwd()  # Obtiene el directorio actual\n",
    "parent_path = os.path.dirname(current_path)  # Sube un nivel\n",
    "os.chdir(parent_path)  # Cambia al directorio padre\n",
    "sys.path = os.getcwd()"
   ]
  },
  {
   "cell_type": "code",
   "execution_count": 4,
   "id": "7f5d6134-4ecb-4a1d-978e-345be46551be",
   "metadata": {},
   "outputs": [],
   "source": [
    "GETBACK2=sys.path"
   ]
  },
  {
   "cell_type": "code",
   "execution_count": 5,
   "id": "272e4221-bce6-4408-8b87-b782b318d95d",
   "metadata": {},
   "outputs": [],
   "source": [
    "cat = pd.read_parquet(\"property_maps_desy3.parquet.gzip_rlkey=raykn68b2908fkvhhw9cpz2g8\")"
   ]
  },
  {
   "cell_type": "code",
   "execution_count": 6,
   "id": "141c771d-162b-4875-af51-0ae5f5e40adb",
   "metadata": {},
   "outputs": [],
   "source": [
    "sys.path=GETBACK"
   ]
  },
  {
   "cell_type": "code",
   "execution_count": 7,
   "id": "3c78a887-2918-4922-801a-2cd403a28c94",
   "metadata": {},
   "outputs": [],
   "source": [
    "cat=cat[(cat['FOREGROUND_MASK']==0) & (cat['BADREGIONS_MASK']<=1) & (cat['FRACDET']>0.8)]\n",
    "catwo=cat.copy(deep=True)\n",
    "cat=[]\n",
    "catwo = catwo.drop(['HPIX_4096','FOREGROUND_MASK','BADREGIONS_MASK','EBV_SFD98'], axis=1)"
   ]
  },
  {
   "cell_type": "code",
   "execution_count": 8,
   "id": "eba54b0c-d009-4651-81c0-8bf781815d47",
   "metadata": {},
   "outputs": [],
   "source": [
    "from importlib import reload\n",
    "import OR_weights\n",
    "reload(OR_weights)\n",
    "from OR_weights import *\n",
    "import somoclu\n",
    "\n",
    "som_dim = 100\n",
    "JoyDiv=100\n",
    "dif=0\n",
    "JD=10\n",
    "SJ=3\n",
    "\n",
    "topology = 'hexagonal'\n",
    "\n",
    "som = somoclu.Somoclu(som_dim, som_dim+dif, gridtype=topology, initialization='pca',\n",
    "                      compactsupport=False)\n",
    "\n",
    "s2s = som2stats(som)"
   ]
  },
  {
   "cell_type": "code",
   "execution_count": 9,
   "id": "4e967dfb-fe21-4de1-9303-98886fd65d82",
   "metadata": {},
   "outputs": [],
   "source": [
    "MainArray=[som_dim,JoyDiv,dif,JD,SJ]"
   ]
  },
  {
   "cell_type": "code",
   "execution_count": 10,
   "id": "ca925662-5df7-4107-84f6-6c0d774149d1",
   "metadata": {},
   "outputs": [],
   "source": [
    "scaler = MinMaxScaler()\n",
    "catwo = pd.DataFrame(scaler.fit_transform(catwo), columns=catwo.columns)"
   ]
  },
  {
   "cell_type": "code",
   "execution_count": 11,
   "id": "2680d591-83bd-460d-8aff-b0d66c56d288",
   "metadata": {},
   "outputs": [],
   "source": [
    "DataArray=catwo.to_numpy()"
   ]
  },
  {
   "cell_type": "code",
   "execution_count": 12,
   "id": "33fbee6e-b638-48fb-8397-7dbcaea8929a",
   "metadata": {},
   "outputs": [
    {
     "name": "stdout",
     "output_type": "stream",
     "text": [
      "Warning: data was not float32. A 32-bit copy was made\n",
      "CPU times: user 2d 1h 9min 45s, sys: 59.7 s, total: 2d 1h 10min 44s\n",
      "Wall time: 3h 19min 12s\n"
     ]
    }
   ],
   "source": [
    "%time s2s.train_som(DataArray)"
   ]
  },
  {
   "cell_type": "code",
   "execution_count": 13,
   "id": "aadc9acd-0943-40f8-92e0-13dfcfb2e38d",
   "metadata": {},
   "outputs": [],
   "source": [
    "catwo = catwo.iloc[0:0]\n",
    "del DataArray"
   ]
  },
  {
   "cell_type": "code",
   "execution_count": 14,
   "id": "ce65d0fd-3191-496e-b94c-5b52a4c4aec0",
   "metadata": {},
   "outputs": [],
   "source": [
    "sys.path=GETBACK2\n",
    "os.chdir(\"Modulos\")"
   ]
  },
  {
   "cell_type": "code",
   "execution_count": 15,
   "id": "a494252e-27b3-432c-93e6-885a3111128f",
   "metadata": {},
   "outputs": [],
   "source": [
    "with open(\"Modulo_SOM_BMUS.txt\", \"w\") as file:\n",
    "    for a, b in zip(s2s.training_bmus[:,0], s2s.training_bmus[:,1]):\n",
    "        file.write(f\"{a}\\t{b}\\n\")"
   ]
  },
  {
   "cell_type": "code",
   "execution_count": 16,
   "id": "cdfbbcbf-e744-457c-80ff-90ef5c6bd8f5",
   "metadata": {},
   "outputs": [],
   "source": [
    "arr_1d = s2s.som.codebook.ravel()"
   ]
  },
  {
   "cell_type": "code",
   "execution_count": null,
   "id": "09cd42f6-5d53-4d00-ac8c-0fa9e014ea5f",
   "metadata": {},
   "outputs": [],
   "source": [
    "np.savetxt(\"Modulo_SOM_RESULTS.txt\", arr_1d)\n",
    "del arr_1d"
   ]
  },
  {
   "cell_type": "code",
   "execution_count": null,
   "id": "9692be13-f334-411d-b71b-b7464b6203a9",
   "metadata": {},
   "outputs": [],
   "source": [
    "np.savetxt(\"Main_Parmeters.txt\", MainArray)\n",
    "del MainArray"
   ]
  },
  {
   "cell_type": "code",
   "execution_count": null,
   "id": "bba496d1-bb12-4e02-be35-90ed159fb065",
   "metadata": {},
   "outputs": [],
   "source": []
  }
 ],
 "metadata": {
  "kernelspec": {
   "display_name": "Python 3 (ipykernel)",
   "language": "python",
   "name": "python3"
  },
  "language_info": {
   "codemirror_mode": {
    "name": "ipython",
    "version": 3
   },
   "file_extension": ".py",
   "mimetype": "text/x-python",
   "name": "python",
   "nbconvert_exporter": "python",
   "pygments_lexer": "ipython3",
   "version": "3.11.10"
  }
 },
 "nbformat": 4,
 "nbformat_minor": 5
}
