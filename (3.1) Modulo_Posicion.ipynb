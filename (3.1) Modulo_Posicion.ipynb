{
 "cells": [
  {
   "cell_type": "code",
   "execution_count": 1,
   "id": "f8b25089-50f9-4f81-8cda-b4fbc50181bc",
   "metadata": {},
   "outputs": [],
   "source": [
    "import numpy as np\n",
    "import matplotlib.pyplot as plt\n",
    "import pandas as pd\n",
    "import treecorr\n",
    "import healpy as hp\n",
    "import os\n",
    "\n",
    "from importlib import reload\n",
    "\n",
    "import somoclu\n",
    "\n",
    "import time\n",
    "\n",
    "start_time = time.time()\n",
    "\n",
    "import sys\n",
    "sys.path.append('src')"
   ]
  },
  {
   "cell_type": "code",
   "execution_count": 2,
   "id": "19798f50-1385-4f82-9e96-084687de4bee",
   "metadata": {},
   "outputs": [],
   "source": [
    "GETBACK=sys.path"
   ]
  },
  {
   "cell_type": "code",
   "execution_count": 3,
   "id": "cb7bb926-a7c2-4c01-9e0e-8e7265baa416",
   "metadata": {},
   "outputs": [],
   "source": [
    "current_path = os.getcwd()  # Obtiene el directorio actual\n",
    "parent_path = os.path.dirname(current_path)  # Sube un nivel\n",
    "os.chdir(parent_path)  # Cambia al directorio padre\n",
    "sys.path = os.getcwd()"
   ]
  },
  {
   "cell_type": "code",
   "execution_count": 4,
   "id": "79af0f6c-ce4b-4954-929a-1cd215baaee6",
   "metadata": {},
   "outputs": [],
   "source": [
    "GETBACK2=sys.path"
   ]
  },
  {
   "cell_type": "code",
   "execution_count": 5,
   "id": "52c8a16f-676b-409c-ab4d-2ef96321505c",
   "metadata": {},
   "outputs": [],
   "source": [
    "catwo = pd.read_parquet(\"property_maps_desy3_small.parquet.gzip\")\n",
    "catwo = catwo.drop(['HPIX_4096','FOREGROUND_MASK','BADREGIONS_MASK','EBV_SFD98'], axis=1)\n",
    "catwo = catwo.iloc[0:0]"
   ]
  },
  {
   "cell_type": "code",
   "execution_count": 6,
   "id": "f3bff461-73da-49bf-91f3-63ef039e24c2",
   "metadata": {},
   "outputs": [],
   "source": [
    "sys.path=GETBACK2\n",
    "os.chdir(\"Modulos\")"
   ]
  },
  {
   "cell_type": "code",
   "execution_count": 7,
   "id": "bfb86fba-74e3-4701-99d2-cefcb7b0be73",
   "metadata": {},
   "outputs": [],
   "source": [
    "MainArray = np.loadtxt(\"Main_Parmeters.txt\")"
   ]
  },
  {
   "cell_type": "code",
   "execution_count": 8,
   "id": "099153ce-a412-4acb-8f21-1957b0308f7b",
   "metadata": {},
   "outputs": [],
   "source": [
    "som_dim = int(MainArray[0])\n",
    "JoyDiv=int(MainArray[1])\n",
    "dif=int(MainArray[2])\n",
    "JD=int(MainArray[3])\n",
    "SJ=int(MainArray[4])\n",
    "Bin=0\n",
    "Rango=[0,6]\n",
    "\n",
    "del MainArray"
   ]
  },
  {
   "cell_type": "code",
   "execution_count": 9,
   "id": "865edacb-d5b7-4db1-b1a2-0feae802b4a5",
   "metadata": {},
   "outputs": [],
   "source": [
    "cat = pd.read_parquet(\"property_maps_desy3Groups.parquet.gzip\")"
   ]
  },
  {
   "cell_type": "code",
   "execution_count": 10,
   "id": "c808a0fb-dbd9-49b6-9d95-b3a60077c7b1",
   "metadata": {},
   "outputs": [],
   "source": [
    "Position_in_plot=[]\n",
    "for i in range(Rango[0],Rango[1]):\n",
    "    #print(catwo.columns[i])\n",
    "    resultado = cat.groupby('Group_'+catwo.columns[i])['HPIX_4096']\n",
    "    Position_in_plot.append(resultado)\n",
    "    #Position_in_plot.append(np.array(resultado[catwo.columns[i]]))\n",
    "del cat\n",
    "del resultado"
   ]
  },
  {
   "cell_type": "code",
   "execution_count": 11,
   "id": "fb94e564-e2d5-4751-9b2e-5cdb125bd198",
   "metadata": {},
   "outputs": [],
   "source": [
    "cat = pd.read_parquet(\"property_maps_desy3PIX.parquet.gzip\")"
   ]
  },
  {
   "cell_type": "code",
   "execution_count": 12,
   "id": "5b628487-3af5-41e0-8358-e1b7fe1a5a52",
   "metadata": {},
   "outputs": [
    {
     "name": "stdout",
     "output_type": "stream",
     "text": [
      "DEPTH_MOF_G\n",
      "DEPTH_MOF_I\n",
      "DEPTH_MOF_R\n",
      "DEPTH_MOF_Z\n",
      "EBV_PLANCK13\n",
      "FWHM_WMEAN_G\n"
     ]
    }
   ],
   "source": [
    "array_de_listas = [[] for _ in range(0,(Rango[1]-Rango[0]))]\n",
    "for i in range(Rango[0],Rango[1]):\n",
    "    print(catwo.columns[i])\n",
    "    A=[]     \n",
    "    for j in range(JD):\n",
    "        group_sum =float(cat[cat['HPIX_4096'].isin(np.array(Position_in_plot[i].apply(list)[j]))][catwo.columns[i]].mean())\n",
    "        A.append(group_sum)\n",
    "    array_de_listas[i].extend(A)\n",
    "del cat"
   ]
  },
  {
   "cell_type": "code",
   "execution_count": 13,
   "id": "14f901cc-642b-45ed-b245-3871c3b97c45",
   "metadata": {},
   "outputs": [],
   "source": [
    "np.savetxt(\"Modulo_Posiciones.txt\", np.ravel(array_de_listas), fmt=\"%.15f\")"
   ]
  },
  {
   "cell_type": "code",
   "execution_count": null,
   "id": "281f127d-ec59-41d8-a20d-b01a0ab6348b",
   "metadata": {},
   "outputs": [],
   "source": []
  }
 ],
 "metadata": {
  "kernelspec": {
   "display_name": "Python 3 (ipykernel)",
   "language": "python",
   "name": "python3"
  },
  "language_info": {
   "codemirror_mode": {
    "name": "ipython",
    "version": 3
   },
   "file_extension": ".py",
   "mimetype": "text/x-python",
   "name": "python",
   "nbconvert_exporter": "python",
   "pygments_lexer": "ipython3",
   "version": "3.11.10"
  }
 },
 "nbformat": 4,
 "nbformat_minor": 5
}
